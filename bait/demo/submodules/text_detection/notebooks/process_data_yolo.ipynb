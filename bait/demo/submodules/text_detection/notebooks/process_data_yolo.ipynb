{
 "cells": [
  {
   "cell_type": "code",
   "execution_count": 8,
   "metadata": {},
   "outputs": [],
   "source": [
    "from pathlib import Path\n",
    "from PIL import Image\n",
    "import numpy as np\n",
    "\n",
    "\n",
    "def get_image_shape(text_file: str | Path, outfolder: str | Path):\n",
    "    text_file = Path(text_file)\n",
    "    components = str(text_file.name).split(\".\")\n",
    "    if components[-1].lower() != \"txt\":\n",
    "        raise OSError(\"Must be a text file\")\n",
    "\n",
    "    image_id = components[0]\n",
    "    image_path =  Path(outfolder) / (image_id + \".jpg\")\n",
    "\n",
    "    if not Path(image_path).exists():\n",
    "        raise FileNotFoundError(\"Image file not found\")\n",
    "\n",
    "    image = Image.open(image_path)\n",
    "    width, height = image.size\n",
    "    return width, height\n",
    "\n",
    "\n",
    "def process_text(text_file: str | Path, outfolder: str | Path, test_only: bool = False):\n",
    "    text_file = Path(text_file)\n",
    "    with text_file.open(\"r\") as infile: \n",
    "        width, height = get_image_shape(text_file, outfolder)\n",
    "        data = \"\"\n",
    "        new_data = \"\"\n",
    "\n",
    "        for line in infile:\n",
    "            if test_only:\n",
    "                data += f\"{line}\\n\"\n",
    "\n",
    "            line_data = line.strip().split(\",\")\n",
    "            coords = line_data[:8]\n",
    "            coords[::2] = [str(round(float(coord) / width, 6)) for coord in coords[::2]]\n",
    "            coords[1::2] = [str(round(float(coord) / height, 6)) for coord in coords[1::2]]\n",
    "\n",
    "            new_data += f\"0 {' '.join(coords)}\\n\"\n",
    "    \n",
    "    if test_only:\n",
    "        print(data)\n",
    "        print(new_data)\n",
    "    else:\n",
    "        out_text_file = Path(outfolder) / text_file.name\n",
    "        with out_text_file.open(\"w\") as outfile:\n",
    "            outfile.write(new_data)"
   ]
  },
  {
   "cell_type": "code",
   "execution_count": 9,
   "metadata": {},
   "outputs": [
    {
     "name": "stdout",
     "output_type": "stream",
     "text": [
      "9011\n"
     ]
    }
   ],
   "source": [
    "! ls /mnt/data/data/Data_Ve_Chu/Data_Ve_Chu/train_gt | wc -l"
   ]
  },
  {
   "cell_type": "code",
   "execution_count": 10,
   "metadata": {},
   "outputs": [
    {
     "data": {
      "text/plain": [
       "(158, 159)"
      ]
     },
     "execution_count": 10,
     "metadata": {},
     "output_type": "execute_result"
    }
   ],
   "source": [
    "from PIL import Image\n",
    "\n",
    "image = Image.open(\"/mnt/data/data/Data_Ve_Chu/Data_Ve_Chu/train_img/G0013473.jpg\")\n",
    "image.size"
   ]
  },
  {
   "cell_type": "code",
   "execution_count": 11,
   "metadata": {},
   "outputs": [],
   "source": [
    "from shutil import copy\n",
    "from pathlib import Path\n",
    "\n",
    "\n",
    "def copy_images(src, dst):\n",
    "    src = Path(src)\n",
    "    dst = Path(dst)\n",
    "\n",
    "    dst.mkdir(parents=True, exist_ok=True)\n",
    "\n",
    "    for file in src.glob(\"*\"):\n",
    "        if file.is_file():\n",
    "            copy(file, dst)"
   ]
  },
  {
   "cell_type": "code",
   "execution_count": 12,
   "metadata": {},
   "outputs": [],
   "source": [
    "src_img = \"/mnt/data/data/Data_Ve_Chu/Data_Ve_Chu/train_img\"\n",
    "dst_img = \"/mnt/data/data/Data_Ve_Chu/YOLO_2309/train\"\n",
    "# copy_images(src_img, dst_img)"
   ]
  },
  {
   "cell_type": "code",
   "execution_count": 13,
   "metadata": {},
   "outputs": [],
   "source": [
    "src_val = \"/mnt/data/data/Data_Ve_Chu/YOLO_2608/val\"\n",
    "src_val = \"/mnt/data/data/Data_Ve_Chu/YOLO_2309/val\"\n",
    "# copy_images(src_val, dst_val)"
   ]
  },
  {
   "cell_type": "code",
   "execution_count": 14,
   "metadata": {},
   "outputs": [
    {
     "name": "stdout",
     "output_type": "stream",
     "text": [
      "59,74,203,96,202,125,66,103,0\n",
      "\n",
      "\n",
      "0 0.205575 0.406593 0.707317 0.527473 0.703833 0.686813 0.229965 0.565934\n",
      "\n"
     ]
    }
   ],
   "source": [
    "process_text(\n",
    "    \"/mnt/data/data/Data_Ve_Chu/Data_Ve_Chu/train_gt/2.txt\",\n",
    "    \"/mnt/data/data/Data_Ve_Chu/YOLO_2309/train\", \n",
    "    test_only=True,\n",
    ")"
   ]
  },
  {
   "cell_type": "code",
   "execution_count": 15,
   "metadata": {},
   "outputs": [],
   "source": [
    "def norm_text_files(folder: str, outfolder: str):\n",
    "    for file in Path(folder).iterdir():\n",
    "        if file.is_file() and file.suffix.split(\".\")[-1] == \"txt\":\n",
    "            process_text(file, outfolder)"
   ]
  },
  {
   "cell_type": "code",
   "execution_count": 16,
   "metadata": {},
   "outputs": [],
   "source": [
    "norm_text_files(\n",
    "    \"/mnt/data/data/Data_Ve_Chu/Data_Ve_Chu/train_gt\",\n",
    "    \"/mnt/data/data/Data_Ve_Chu/YOLO_2309/train\", \n",
    ")"
   ]
  },
  {
   "cell_type": "code",
   "execution_count": 17,
   "metadata": {},
   "outputs": [
    {
     "name": "stdout",
     "output_type": "stream",
     "text": [
      "9011\n"
     ]
    }
   ],
   "source": [
    "! ls /mnt/data/data/Data_Ve_Chu/YOLO_2309/train/*.txt | wc -l"
   ]
  },
  {
   "cell_type": "code",
   "execution_count": null,
   "metadata": {},
   "outputs": [],
   "source": []
  }
 ],
 "metadata": {
  "kernelspec": {
   "display_name": "Python 3",
   "language": "python",
   "name": "python3"
  },
  "language_info": {
   "codemirror_mode": {
    "name": "ipython",
    "version": 3
   },
   "file_extension": ".py",
   "mimetype": "text/x-python",
   "name": "python",
   "nbconvert_exporter": "python",
   "pygments_lexer": "ipython3",
   "version": "3.10.12"
  }
 },
 "nbformat": 4,
 "nbformat_minor": 2
}
