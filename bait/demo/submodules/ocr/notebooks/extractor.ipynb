{
 "cells": [
  {
   "cell_type": "code",
   "execution_count": 1,
   "metadata": {},
   "outputs": [],
   "source": [
    "from os import getcwd, makedirs, path as os_path\n",
    "from sys import path as sys_path\n",
    "sys_path.append(os_path.dirname(getcwd()))\n",
    "sys_path.append(os_path.join(os_path.dirname(getcwd()), \"../\"))"
   ]
  },
  {
   "cell_type": "code",
   "execution_count": 3,
   "metadata": {},
   "outputs": [
    {
     "data": {
      "text/plain": [
       "440"
      ]
     },
     "execution_count": 3,
     "metadata": {},
     "output_type": "execute_result"
    }
   ],
   "source": [
    "from utils.file import load_json\n",
    "\n",
    "trash_images = load_json(\"/mnt/data/src/dedup/trash.json\")\n",
    "len(trash_images)"
   ]
  },
  {
   "cell_type": "code",
   "execution_count": 4,
   "metadata": {},
   "outputs": [],
   "source": [
    "from os.path import basename, dirname\n",
    "\n",
    "def is_gt_trash(image_path):\n",
    "    gt_group_type = str(basename(dirname(image_path)))\n",
    "    if gt_group_type.startswith(\"kxd\") or gt_group_type.startswith(\"kp\"):\n",
    "        return True\n",
    "\n",
    "    return False"
   ]
  },
  {
   "cell_type": "code",
   "execution_count": 5,
   "metadata": {},
   "outputs": [
    {
     "data": {
      "text/plain": [
       "52"
      ]
     },
     "execution_count": 5,
     "metadata": {},
     "output_type": "execute_result"
    }
   ],
   "source": [
    "wrong_images = [x for x in trash_images if not is_gt_trash(x)]\n",
    "len(wrong_images)"
   ]
  },
  {
   "cell_type": "code",
   "execution_count": 211,
   "metadata": {},
   "outputs": [
    {
     "data": {
      "text/plain": [
       "45"
      ]
     },
     "execution_count": 211,
     "metadata": {},
     "output_type": "execute_result"
    }
   ],
   "source": [
    "from utils.file import load_json\n",
    "\n",
    "group_dict = load_json(\"/mnt/data/src/dedup/group.json\")\n",
    "group_images = sorted(group_dict.values(), key=lambda x: len(x), reverse=True)[1]\n",
    "len(group_images)"
   ]
  },
  {
   "cell_type": "markdown",
   "metadata": {},
   "source": [
    "## Create model"
   ]
  },
  {
   "cell_type": "code",
   "execution_count": 212,
   "metadata": {},
   "outputs": [
    {
     "name": "stdout",
     "output_type": "stream",
     "text": [
      "Weights is already located. No downloading.\n",
      "Weights is already located. No downloading.\n",
      "Weights is already located. No downloading.\n"
     ]
    }
   ],
   "source": [
    "from ocr_run import OCR, get_weights\n",
    "\n",
    "ocr = OCR(\n",
    "    weight_detect=get_weights(\"/mnt/data/ocr/RELEASE_0.1.0/yolov8_text.pt\", out_dir=\"../weights\"),\n",
    "    weight_reg=get_weights(\"/mnt/data/ocr/RELEASE_0.1.0/weight_transformer_0507.pth\", out_dir=\"../weights\"),\n",
    "    config_reg=get_weights(\"/mnt/data/ocr/RELEASE_0.1.0/config_transformer.yml\", out_dir=\"../weights\"),\n",
    ")"
   ]
  },
  {
   "cell_type": "code",
   "execution_count": 213,
   "metadata": {},
   "outputs": [
    {
     "name": "stdout",
     "output_type": "stream",
     "text": [
      "\n",
      "image 1/1 /mnt/data/data/Data_Dedup/test_75+/kxd_253/1698365543625_0.jpg: 160x224 10 texts, 16.8ms\n",
      "Speed: 0.6ms preprocess, 16.8ms inference, 1.4ms postprocess per image at shape (1, 3, 160, 224)\n",
      "\n",
      "image 1/1 /mnt/data/data/Data_Dedup/test_75+/kxd_253/1698365550028_0.jpg: 64x224 24 texts, 7.6ms\n",
      "Speed: 0.3ms preprocess, 7.6ms inference, 0.8ms postprocess per image at shape (1, 3, 64, 224)\n",
      "\n",
      "image 1/1 /mnt/data/data/Data_Dedup/test_75+/kxd_253/1698365553228_1.jpg: 64x224 24 texts, 7.2ms\n",
      "Speed: 0.3ms preprocess, 7.2ms inference, 0.8ms postprocess per image at shape (1, 3, 64, 224)\n",
      "\n",
      "image 1/1 /mnt/data/data/Data_Dedup/test_75+/kxd_253/1698365554828_2.jpg: 64x224 27 texts, 7.2ms\n",
      "Speed: 0.2ms preprocess, 7.2ms inference, 0.8ms postprocess per image at shape (1, 3, 64, 224)\n",
      "\n",
      "image 1/1 /mnt/data/data/Data_Dedup/test_75+/kxd_253/1698365559630_0.jpg: 96x224 26 texts, 14.8ms\n",
      "Speed: 0.5ms preprocess, 14.8ms inference, 1.2ms postprocess per image at shape (1, 3, 96, 224)\n",
      "\n",
      "image 1/1 /mnt/data/data/Data_Dedup/test_75+/kxd_253/1698365562830_1.jpg: 96x224 24 texts, 9.1ms\n",
      "Speed: 0.3ms preprocess, 9.1ms inference, 1.0ms postprocess per image at shape (1, 3, 96, 224)\n",
      "\n",
      "image 1/1 /mnt/data/data/Data_Dedup/test_75+/kxd_253/1698365562830_2.jpg: 160x224 10 texts, 20.2ms\n",
      "Speed: 2.3ms preprocess, 20.2ms inference, 11.7ms postprocess per image at shape (1, 3, 160, 224)\n",
      "\n",
      "image 1/1 /mnt/data/data/Data_Dedup/test_75+/kxd_253/1698365564430_0.jpg: 96x224 28 texts, 14.9ms\n",
      "Speed: 2.9ms preprocess, 14.9ms inference, 7.8ms postprocess per image at shape (1, 3, 96, 224)\n",
      "\n",
      "image 1/1 /mnt/data/data/Data_Dedup/test_75+/kxd_253/1698365567630_1.jpg: 96x224 31 texts, 17.2ms\n",
      "Speed: 3.4ms preprocess, 17.2ms inference, 11.7ms postprocess per image at shape (1, 3, 96, 224)\n",
      "\n",
      "image 1/1 /mnt/data/data/Data_Dedup/test_75+/kxd_253/1698365567630_2.jpg: 64x224 30 texts, 19.2ms\n",
      "Speed: 4.0ms preprocess, 19.2ms inference, 11.6ms postprocess per image at shape (1, 3, 64, 224)\n",
      "\n",
      "image 1/1 /mnt/data/data/Data_Dedup/test_75+/kxd_253/1698365569229_2.jpg: 64x224 34 texts, 9.9ms\n",
      "Speed: 3.6ms preprocess, 9.9ms inference, 11.6ms postprocess per image at shape (1, 3, 64, 224)\n",
      "\n",
      "image 1/1 /mnt/data/data/Data_Dedup/test_75+/unique_449/1698365545226_1.jpg: 128x224 12 texts, 15.2ms\n",
      "Speed: 0.5ms preprocess, 15.2ms inference, 10.1ms postprocess per image at shape (1, 3, 128, 224)\n",
      "\n",
      "image 1/1 /mnt/data/data/Data_Dedup/test_75+/unique_449/1698365546826_0.jpg: 96x224 15 texts, 14.9ms\n",
      "Speed: 3.1ms preprocess, 14.9ms inference, 5.8ms postprocess per image at shape (1, 3, 96, 224)\n",
      "\n",
      "image 1/1 /mnt/data/data/Data_Dedup/test_75+/unique_449/1698365548428_0.jpg: 128x224 11 texts, 15.2ms\n",
      "Speed: 0.7ms preprocess, 15.2ms inference, 11.6ms postprocess per image at shape (1, 3, 128, 224)\n",
      "\n",
      "image 1/1 /mnt/data/data/Data_Dedup/test_75+/unique_449/1698365551628_0.jpg: 96x224 13 texts, 15.0ms\n",
      "Speed: 3.1ms preprocess, 15.0ms inference, 11.6ms postprocess per image at shape (1, 3, 96, 224)\n",
      "\n",
      "image 1/1 /mnt/data/data/Data_Dedup/test_75+/unique_449/1698365553228_0.jpg: 96x224 18 texts, 8.0ms\n",
      "Speed: 3.2ms preprocess, 8.0ms inference, 11.6ms postprocess per image at shape (1, 3, 96, 224)\n",
      "\n",
      "image 1/1 /mnt/data/data/Data_Dedup/test_75+/unique_449/1698365554828_0.jpg: 96x224 20 texts, 7.9ms\n",
      "Speed: 0.4ms preprocess, 7.9ms inference, 1.0ms postprocess per image at shape (1, 3, 96, 224)\n",
      "\n",
      "image 1/1 /mnt/data/data/Data_Dedup/test_75+/unique_449/1698365556429_0.jpg: 96x224 17 texts, 7.7ms\n",
      "Speed: 0.4ms preprocess, 7.7ms inference, 0.9ms postprocess per image at shape (1, 3, 96, 224)\n",
      "\n",
      "image 1/1 /mnt/data/data/Data_Dedup/test_75+/unique_449/1698365558030_1.jpg: 128x224 13 texts, 8.0ms\n",
      "Speed: 0.5ms preprocess, 8.0ms inference, 0.9ms postprocess per image at shape (1, 3, 128, 224)\n",
      "\n",
      "image 1/1 /mnt/data/data/Data_Dedup/test_75+/unique_449/1698365559630_1.jpg: 128x224 10 texts, 7.2ms\n",
      "Speed: 0.6ms preprocess, 7.2ms inference, 0.8ms postprocess per image at shape (1, 3, 128, 224)\n",
      "\n",
      "image 1/1 /mnt/data/data/Data_Dedup/test_75+/unique_449/1698365561229_1.jpg: 128x224 12 texts, 7.5ms\n",
      "Speed: 0.3ms preprocess, 7.5ms inference, 0.9ms postprocess per image at shape (1, 3, 128, 224)\n",
      "\n",
      "image 1/1 /mnt/data/data/Data_Dedup/test_75+/unique_449/1698365566030_0.jpg: 128x224 13 texts, 7.6ms\n",
      "Speed: 0.5ms preprocess, 7.6ms inference, 0.9ms postprocess per image at shape (1, 3, 128, 224)\n",
      "\n",
      "image 1/1 /mnt/data/data/Data_Dedup/test_75+/unique_449/1698365569229_0.jpg: 96x224 14 texts, 11.5ms\n",
      "Speed: 0.3ms preprocess, 11.5ms inference, 0.9ms postprocess per image at shape (1, 3, 96, 224)\n",
      "\n",
      "image 1/1 /mnt/data/data/Data_Dedup/test_75+/unique_449/1698365570829_1.jpg: 96x224 18 texts, 7.7ms\n",
      "Speed: 0.3ms preprocess, 7.7ms inference, 0.9ms postprocess per image at shape (1, 3, 96, 224)\n",
      "\n",
      "image 1/1 /mnt/data/data/Data_Dedup/test_75+/unique_449/1698365572429_0.jpg: 96x224 16 texts, 7.8ms\n",
      "Speed: 0.3ms preprocess, 7.8ms inference, 0.9ms postprocess per image at shape (1, 3, 96, 224)\n",
      "\n",
      "image 1/1 /mnt/data/data/Data_Dedup/test_75+/unique_449/1698365574030_1.jpg: 96x224 16 texts, 14.5ms\n",
      "Speed: 0.5ms preprocess, 14.5ms inference, 1.4ms postprocess per image at shape (1, 3, 96, 224)\n",
      "\n",
      "image 1/1 /mnt/data/data/Data_Dedup/test_75+/unique_449/1698365574408_1.jpg: 96x224 18 texts, 7.8ms\n",
      "Speed: 0.3ms preprocess, 7.8ms inference, 0.9ms postprocess per image at shape (1, 3, 96, 224)\n",
      "\n",
      "image 1/1 /mnt/data/data/Data_Dedup/test_75+/unique_449/1698365575629_0.jpg: 96x224 19 texts, 7.5ms\n",
      "Speed: 0.3ms preprocess, 7.5ms inference, 0.9ms postprocess per image at shape (1, 3, 96, 224)\n",
      "\n",
      "image 1/1 /mnt/data/data/Data_Dedup/test_75+/unique_449/1698365577230_1.jpg: 96x224 19 texts, 9.3ms\n",
      "Speed: 0.5ms preprocess, 9.3ms inference, 0.9ms postprocess per image at shape (1, 3, 96, 224)\n",
      "\n",
      "image 1/1 /mnt/data/data/Data_Dedup/test_75+/unique_449/1698365578830_1.jpg: 96x224 18 texts, 7.6ms\n",
      "Speed: 0.3ms preprocess, 7.6ms inference, 0.9ms postprocess per image at shape (1, 3, 96, 224)\n",
      "\n",
      "image 1/1 /mnt/data/data/Data_Dedup/test_75+/unique_449/1698365580431_1.jpg: 96x224 18 texts, 8.0ms\n",
      "Speed: 4.2ms preprocess, 8.0ms inference, 11.6ms postprocess per image at shape (1, 3, 96, 224)\n",
      "\n",
      "image 1/1 /mnt/data/data/Data_Dedup/test_75+/unique_449/1698365582031_2.jpg: 96x224 18 texts, 7.9ms\n",
      "Speed: 2.6ms preprocess, 7.9ms inference, 5.2ms postprocess per image at shape (1, 3, 96, 224)\n",
      "\n",
      "image 1/1 /mnt/data/data/Data_Dedup/test_75+/unique_449/1698365583631_2.jpg: 64x224 20 texts, 14.7ms\n",
      "Speed: 3.1ms preprocess, 14.7ms inference, 11.7ms postprocess per image at shape (1, 3, 64, 224)\n",
      "\n",
      "image 1/1 /mnt/data/data/Data_Dedup/test_75+/unique_449/1698365585232_2.jpg: 96x224 15 texts, 17.6ms\n",
      "Speed: 3.5ms preprocess, 17.6ms inference, 11.7ms postprocess per image at shape (1, 3, 96, 224)\n",
      "\n",
      "image 1/1 /mnt/data/data/Data_Dedup/test_75+/unique_449/1698365586832_2.jpg: 96x224 21 texts, 8.0ms\n",
      "Speed: 3.1ms preprocess, 8.0ms inference, 7.7ms postprocess per image at shape (1, 3, 96, 224)\n",
      "\n",
      "image 1/1 /mnt/data/data/Data_Dedup/test_75+/unique_449/1698365588432_1.jpg: 96x224 21 texts, 8.4ms\n",
      "Speed: 3.6ms preprocess, 8.4ms inference, 11.7ms postprocess per image at shape (1, 3, 96, 224)\n",
      "\n",
      "image 1/1 /mnt/data/data/Data_Dedup/test_75+/unique_449/1698365590032_2.jpg: 96x224 21 texts, 17.2ms\n",
      "Speed: 4.5ms preprocess, 17.2ms inference, 11.5ms postprocess per image at shape (1, 3, 96, 224)\n",
      "\n",
      "image 1/1 /mnt/data/data/Data_Dedup/test_75+/unique_449/1698365591633_1.jpg: 96x224 19 texts, 8.4ms\n",
      "Speed: 3.0ms preprocess, 8.4ms inference, 11.6ms postprocess per image at shape (1, 3, 96, 224)\n",
      "\n",
      "image 1/1 /mnt/data/data/Data_Dedup/test_75+/unique_449/1698365593233_2.jpg: 128x224 15 texts, 20.1ms\n",
      "Speed: 1.8ms preprocess, 20.1ms inference, 11.6ms postprocess per image at shape (1, 3, 128, 224)\n",
      "\n",
      "image 1/1 /mnt/data/data/Data_Dedup/test_75+/unique_449/1698365594834_6.jpg: 128x224 8 texts, 8.3ms\n",
      "Speed: 0.7ms preprocess, 8.3ms inference, 11.7ms postprocess per image at shape (1, 3, 128, 224)\n",
      "\n",
      "image 1/1 /mnt/data/data/Data_Dedup/test_75+/unique_449/1698365598034_3.jpg: 128x224 13 texts, 17.5ms\n",
      "Speed: 2.0ms preprocess, 17.5ms inference, 11.7ms postprocess per image at shape (1, 3, 128, 224)\n",
      "\n",
      "image 1/1 /mnt/data/data/Data_Dedup/test_75+/unique_449/1698365599634_1.jpg: 96x224 18 texts, 15.0ms\n",
      "Speed: 3.5ms preprocess, 15.0ms inference, 11.6ms postprocess per image at shape (1, 3, 96, 224)\n",
      "\n",
      "image 1/1 /mnt/data/data/Data_Dedup/test_75+/unique_449/1698365601234_1.jpg: 64x224 21 texts, 14.6ms\n",
      "Speed: 4.7ms preprocess, 14.6ms inference, 11.6ms postprocess per image at shape (1, 3, 64, 224)\n",
      "\n",
      "image 1/1 /mnt/data/data/Data_Dedup/test_75+/unique_449/1698365602834_1.jpg: 96x224 16 texts, 17.3ms\n",
      "Speed: 3.7ms preprocess, 17.3ms inference, 11.6ms postprocess per image at shape (1, 3, 96, 224)\n",
      "\n",
      "image 1/1 /mnt/data/data/Data_Dedup/test_75+/unique_82/1698365596434_5.jpg: 192x224 4 texts, 25.3ms\n",
      "Speed: 2.3ms preprocess, 25.3ms inference, 11.6ms postprocess per image at shape (1, 3, 192, 224)\n"
     ]
    }
   ],
   "source": [
    "# folder = \"../test/in\"\n",
    "raw_res = ocr.detect(group_images)"
   ]
  },
  {
   "cell_type": "markdown",
   "metadata": {},
   "source": [
    "## Extract name by bounding box"
   ]
  },
  {
   "cell_type": "code",
   "execution_count": null,
   "metadata": {},
   "outputs": [],
   "source": [
    "vocab = \"aAàÀảẢãÃáÁạẠăĂằẰẳẲẵẴắẮặẶâÂầẦẩẨẫẪấẤậẬbBcCdDđĐeEèÈẻẺẽẼéÉẹẸêÊềỀểỂễỄếẾệỆfFgGhHiIìÌỉỈĩĨíÍịỊjJkKlLmMnNoOòÒỏỎõÕóÓọỌôÔồỒổỔỗỖốỐộỘơƠờỜởỞỡỠớỚợỢpPqQrRsStTuUùÙủỦũŨúÚụỤưƯừỪửỬữỮứỨựỰvVwWxXyYỳỲỷỶỹỸýÝỵỴzZ \"\n",
    "\n",
    "\n",
    "def filter_characters(text: str, vocab: str) -> str:\n",
    "    \"\"\"Remove characters not in vocabulary\"\"\"\n",
    "    return \"\".join([x for x in text if x in vocab])\n",
    "\n",
    "\n",
    "def filter_text(result_value: list, vocab: str):\n",
    "        for dr in result_value:\n",
    "            dr.text = filter_characters(dr.text, vocab)\n",
    "\n",
    "        result_value = [x for x in result_value if len(x.text) > 1]\n",
    "        \n",
    "        return result_value"
   ]
  },
  {
   "cell_type": "code",
   "execution_count": null,
   "metadata": {},
   "outputs": [
    {
     "data": {
      "text/plain": [
       "'TIẾN'"
      ]
     },
     "execution_count": 34,
     "metadata": {},
     "output_type": "execute_result"
    }
   ],
   "source": [
    "rv = raw_res[\"../test/in/1698302876103.jpg\"]\n",
    "rv = filter_text(rv, vocab)\n",
    "rv[0].text"
   ]
  },
  {
   "cell_type": "code",
   "execution_count": null,
   "metadata": {},
   "outputs": [],
   "source": [
    "# NOTE: not correct for rotated images\n",
    "def is_same_row(\n",
    "    bbox1: list | tuple, bbox2: list | tuple, bbox3: list | tuple | None\n",
    ") -> bool:\n",
    "    \"\"\"Check if current bbox1 is on the same row as previous bbox2\"\"\"\n",
    "\n",
    "    h1 = bbox1[3] - bbox1[1]\n",
    "    h2 = bbox2[3] - bbox2[1]\n",
    "    cx1 = (bbox1[2] + bbox1[0]) / 2\n",
    "    cy1 = (bbox1[3] + bbox1[1]) / 2\n",
    "    cx2 = (bbox2[2] + bbox2[0]) / 2\n",
    "    cy2 = (bbox2[3] + bbox2[1]) / 2\n",
    "\n",
    "    vdist = abs(cy1 - cy2)\n",
    "    if not 0.75 * h2 <= h1 <= 1.25 * h2:\n",
    "        return False\n",
    "\n",
    "    if vdist <= 0.5 * h1 or vdist <= 0.5 * h2:\n",
    "        return True\n",
    "\n",
    "    if vdist <= 0.75 * h1 and vdist <= 0.75 * h2:\n",
    "        if bbox3 is None:\n",
    "            return True\n",
    "        else:\n",
    "            cx3 = (bbox3[2] + bbox3[0]) / 2\n",
    "            prev_hdist = cx2 - cx3\n",
    "            curr_hdist = cx1 - cx2\n",
    "            return 0.9 * prev_hdist <= curr_hdist <= 1.1 * prev_hdist\n",
    "\n",
    "    return False\n",
    "\n",
    "\n",
    "def sort_by_bounding_boxes(data):\n",
    "    \"\"\"Sort a list of data by bounding box positions\n",
    "\n",
    "    Args:\n",
    "        data(list[tuple[list[str], str]]): Each tuple contains bounding box coordinates and text.\n",
    "            Example: [([x_min, y_min, x_max, y_max], text)]\n",
    "\n",
    "    Return:\n",
    "        list[tuple[list[str], str]]: Sorted list of `data` parameter\n",
    "    \"\"\"\n",
    "    if len(data) == 0:\n",
    "        return data\n",
    "\n",
    "    # Sort by the y_min value\n",
    "    data = sorted(data, key=lambda item: item.xyxy[1])\n",
    "\n",
    "    # Group by rows\n",
    "    rows = []\n",
    "    current_row = []\n",
    "    current_bbox = data[0].xyxy\n",
    "    prev_bbox = None\n",
    "\n",
    "    for i, item in enumerate(data):\n",
    "        bbox = item.xyxy\n",
    "\n",
    "        if is_same_row(bbox, current_bbox, prev_bbox):\n",
    "            current_row.append(item)\n",
    "            if i >= 1:\n",
    "                prev_bbox = data[i - 1].xyxy\n",
    "        else:\n",
    "            rows.append(current_row)\n",
    "            current_row = [item]\n",
    "            prev_bbox = None\n",
    "\n",
    "        current_bbox = bbox\n",
    "\n",
    "    # Don't forget to add the last row\n",
    "    rows.append(current_row)\n",
    "\n",
    "    # Sort all rows by the x_min value (left)\n",
    "    for i, row in enumerate(rows):\n",
    "        rows[i] = sorted(row, key=lambda item: item.xyxy[0])\n",
    "\n",
    "    # sorted_data = [bbox for row in rows for bbox in row]\n",
    "    return rows"
   ]
  },
  {
   "cell_type": "code",
   "execution_count": null,
   "metadata": {},
   "outputs": [
    {
     "data": {
      "text/plain": [
       "[['TRUNG', 'TÂM', 'LAPTOP'], ['CHÍNH', 'HĂNG']]"
      ]
     },
     "execution_count": 10,
     "metadata": {},
     "output_type": "execute_result"
    }
   ],
   "source": [
    "rv_rows = sort_by_bounding_boxes(rv)\n",
    "# sorted_sample_names\n",
    "[[x.text for x in row] for row in rv_rows]"
   ]
  },
  {
   "cell_type": "code",
   "execution_count": null,
   "metadata": {},
   "outputs": [],
   "source": [
    "def filter_names(rows: list[list]):\n",
    "    max_height_rows = [max(row, key=lambda x: x.height).height for row in rows]\n",
    "    max_height = max(max_height_rows)    \n",
    "\n",
    "    result = []\n",
    "    for i, row in enumerate(rows):\n",
    "        if max_height_rows[i] >= 0.7 * max_height:\n",
    "            result.extend(row)\n",
    "\n",
    "    return result"
   ]
  },
  {
   "cell_type": "code",
   "execution_count": null,
   "metadata": {},
   "outputs": [
    {
     "data": {
      "text/plain": [
       "[Khong co lam TT,\n",
       " Khong co lam TT,\n",
       " Khong co lam TT,\n",
       " Khong co lam TT,\n",
       " Khong co lam TT]"
      ]
     },
     "execution_count": 45,
     "metadata": {},
     "output_type": "execute_result"
    }
   ],
   "source": [
    "rv = filter_names(rv_rows)\n",
    "rv"
   ]
  },
  {
   "cell_type": "code",
   "execution_count": null,
   "metadata": {},
   "outputs": [],
   "source": [
    "def extract_names(rv: list, vocab: str) -> list[str]:\n",
    "    rv_rows = sort_by_bounding_boxes(rv)\n",
    "    rv_rows = [filter_text(row, vocab) for row in rv_rows]\n",
    "    names = filter_names(rv_rows)\n",
    "\n",
    "    return [x.text for x in names]"
   ]
  },
  {
   "cell_type": "markdown",
   "metadata": {},
   "source": [
    "## Visualization"
   ]
  },
  {
   "cell_type": "code",
   "execution_count": 214,
   "metadata": {},
   "outputs": [],
   "source": [
    "from utils.extractor import extract_names, extract_important_text\n",
    "\n",
    "name_res = {key: extract_names(value) for key, value in raw_res.items()}\n",
    "imp_res = {key: extract_important_text(value) for key, value in raw_res.items()}"
   ]
  },
  {
   "cell_type": "code",
   "execution_count": 2,
   "metadata": {},
   "outputs": [
    {
     "data": {
      "text/plain": [
       "'ama coffee'"
      ]
     },
     "execution_count": 2,
     "metadata": {},
     "output_type": "execute_result"
    }
   ],
   "source": [
    "from utils.file import load_object\n",
    "\n",
    "string_dict = load_object(\"../out/segment/text.pkl\")\n",
    "list(string_dict.values())[0]"
   ]
  },
  {
   "cell_type": "code",
   "execution_count": 3,
   "metadata": {},
   "outputs": [
    {
     "data": {
      "text/plain": [
       "'uama coffee nguyen thi lay non one o hieu'"
      ]
     },
     "execution_count": 3,
     "metadata": {},
     "output_type": "execute_result"
    }
   ],
   "source": [
    "det_res = load_object(\"../out/detect/text.pkl\")\n",
    "list(det_res.values())[0]"
   ]
  },
  {
   "cell_type": "code",
   "execution_count": 215,
   "metadata": {},
   "outputs": [],
   "source": [
    "from collections import Counter\n",
    "\n",
    "def compare_list(list1, list2):\n",
    "    return Counter(list1) == Counter(list2)"
   ]
  },
  {
   "cell_type": "code",
   "execution_count": 216,
   "metadata": {},
   "outputs": [
    {
     "name": "stdout",
     "output_type": "stream",
     "text": [
      "1: ['PHÚC', 'CÓ', 'CƠM', 'GÂ'] \t ['CƠM', 'GÂ', 'CÓ']\n",
      "7: ['PHÚC', 'CƠM', 'GÀ'] \t ['CƠM', 'GÀ']\n"
     ]
    }
   ],
   "source": [
    "for i, (name, imp) in enumerate(zip(name_res.values(), imp_res.values())):\n",
    "    if not compare_list(name, imp):\n",
    "        print(f\"{i}: {name} \\t {imp}\")"
   ]
  },
  {
   "cell_type": "code",
   "execution_count": 5,
   "metadata": {},
   "outputs": [],
   "source": [
    "seg_res = string_dict\n",
    "index = len(seg_res)"
   ]
  },
  {
   "cell_type": "code",
   "execution_count": 11,
   "metadata": {},
   "outputs": [
    {
     "name": "stdout",
     "output_type": "stream",
     "text": [
      "trung veston may day nha doi ve\n",
      "nha veston trung may doi day ve nguyen 0918 trong tuyen 330 dt 932\n"
     ]
    },
    {
     "data": {
      "image/png": "[encoded data removed]",
      "text/plain": [
       "<PIL.JpegImagePlugin.JpegImageFile image mode=RGB size=76x116>"
      ]
     },
     "execution_count": 11,
     "metadata": {},
     "output_type": "execute_result"
    }
   ],
   "source": [
    "from PIL import Image\n",
    "\n",
    "index = index - 1\n",
    "print(list(seg_res.values())[index])\n",
    "print(list(det_res.values())[index])\n",
    "Image.open(list(det_res.keys())[index])"
   ]
  },
  {
   "cell_type": "code",
   "execution_count": null,
   "metadata": {},
   "outputs": [],
   "source": []
  }
 ],
 "metadata": {
  "kernelspec": {
   "display_name": ".venv",
   "language": "python",
   "name": "python3"
  },
  "language_info": {
   "codemirror_mode": {
    "name": "ipython",
    "version": 3
   },
   "file_extension": ".py",
   "mimetype": "text/x-python",
   "name": "python",
   "nbconvert_exporter": "python",
   "pygments_lexer": "ipython3",
   "version": "3.10.12"
  }
 },
 "nbformat": 4,
 "nbformat_minor": 2
}
