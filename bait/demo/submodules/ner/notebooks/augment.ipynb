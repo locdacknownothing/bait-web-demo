{
 "cells": [
  {
   "cell_type": "code",
   "execution_count": 7,
   "metadata": {},
   "outputs": [],
   "source": [
    "# !pip install -q -r ../requirements.txt"
   ]
  },
  {
   "cell_type": "code",
   "execution_count": 1,
   "metadata": {},
   "outputs": [
    {
     "data": {
      "text/html": [
       "<div>\n",
       "<style scoped>\n",
       "    .dataframe tbody tr th:only-of-type {\n",
       "        vertical-align: middle;\n",
       "    }\n",
       "\n",
       "    .dataframe tbody tr th {\n",
       "        vertical-align: top;\n",
       "    }\n",
       "\n",
       "    .dataframe thead th {\n",
       "        text-align: right;\n",
       "    }\n",
       "</style>\n",
       "<table border=\"1\" class=\"dataframe\">\n",
       "  <thead>\n",
       "    <tr style=\"text-align: right;\">\n",
       "      <th></th>\n",
       "      <th>id</th>\n",
       "      <th>title</th>\n",
       "      <th>label</th>\n",
       "    </tr>\n",
       "  </thead>\n",
       "  <tbody>\n",
       "    <tr>\n",
       "      <th>0</th>\n",
       "      <td>91227.jpg</td>\n",
       "      <td>TIỆM TÓC Ngọc Bích CẮT - UỐN - DUỖI - NHUỘM CẠ...</td>\n",
       "      <td>K K N N K K K K K K K K K K K K K K K K K K K ...</td>\n",
       "    </tr>\n",
       "    <tr>\n",
       "      <th>1</th>\n",
       "      <td>94739.jpg</td>\n",
       "      <td>CẮT TÓC NAM - NỮ Linh CẮT DUỖI NHUỘM UỐN KỸ TH...</td>\n",
       "      <td>K K K K K N K K K K K K K K K K K K K A A A A ...</td>\n",
       "    </tr>\n",
       "    <tr>\n",
       "      <th>2</th>\n",
       "      <td>91831.jpg</td>\n",
       "      <td>Tiệm Tóc MỸ LINH UỐN DUỖI NHUỘM LÀM MÓNG GEL N...</td>\n",
       "      <td>K K N N K K K K K K K K K K K K O O O O O</td>\n",
       "    </tr>\n",
       "    <tr>\n",
       "      <th>3</th>\n",
       "      <td>94567.jpg</td>\n",
       "      <td>Hair Salon Thủy * CẮT, UỐN, GỘI * DUỖI, NHUỘM,...</td>\n",
       "      <td>K K N K K K K K K K K K K K K</td>\n",
       "    </tr>\n",
       "    <tr>\n",
       "      <th>4</th>\n",
       "      <td>94207.jpg</td>\n",
       "      <td>Q QUEEN JAPAN COSMETICS - Tuyển CTV Mỹ phẩm ch...</td>\n",
       "      <td>N N K K K K K K K K K K K K K K K K K K K K K ...</td>\n",
       "    </tr>\n",
       "  </tbody>\n",
       "</table>\n",
       "</div>"
      ],
      "text/plain": [
       "          id                                              title  \\\n",
       "0  91227.jpg  TIỆM TÓC Ngọc Bích CẮT - UỐN - DUỖI - NHUỘM CẠ...   \n",
       "1  94739.jpg  CẮT TÓC NAM - NỮ Linh CẮT DUỖI NHUỘM UỐN KỸ TH...   \n",
       "2  91831.jpg  Tiệm Tóc MỸ LINH UỐN DUỖI NHUỘM LÀM MÓNG GEL N...   \n",
       "3  94567.jpg  Hair Salon Thủy * CẮT, UỐN, GỘI * DUỖI, NHUỘM,...   \n",
       "4  94207.jpg  Q QUEEN JAPAN COSMETICS - Tuyển CTV Mỹ phẩm ch...   \n",
       "\n",
       "                                               label  \n",
       "0  K K N N K K K K K K K K K K K K K K K K K K K ...  \n",
       "1  K K K K K N K K K K K K K K K K K K K A A A A ...  \n",
       "2          K K N N K K K K K K K K K K K K O O O O O  \n",
       "3                      K K N K K K K K K K K K K K K  \n",
       "4  N N K K K K K K K K K K K K K K K K K K K K K ...  "
      ]
     },
     "execution_count": 1,
     "metadata": {},
     "output_type": "execute_result"
    }
   ],
   "source": [
    "import sys\n",
    "sys.path.append(\"..\")\n",
    "\n",
    "from file import read_df\n",
    "\n",
    "raw_df = read_df(\"/mnt/data/data/Data_Ner/Data_Ner.xlsx\")\n",
    "raw_df.head()"
   ]
  },
  {
   "cell_type": "code",
   "execution_count": 2,
   "metadata": {},
   "outputs": [
    {
     "name": "stdout",
     "output_type": "stream",
     "text": [
      "<class 'pandas.core.frame.DataFrame'>\n",
      "RangeIndex: 2729 entries, 0 to 2728\n",
      "Data columns (total 3 columns):\n",
      " #   Column  Non-Null Count  Dtype \n",
      "---  ------  --------------  ----- \n",
      " 0   id      2729 non-null   object\n",
      " 1   title   2729 non-null   object\n",
      " 2   label   2729 non-null   object\n",
      "dtypes: object(3)\n",
      "memory usage: 64.1+ KB\n"
     ]
    }
   ],
   "source": [
    "raw_df.info()"
   ]
  },
  {
   "cell_type": "code",
   "execution_count": 6,
   "metadata": {},
   "outputs": [
    {
     "data": {
      "text/plain": [
       "Dataset({\n",
       "    features: ['tokens', 'ner_tags'],\n",
       "    num_rows: 2694\n",
       "})"
      ]
     },
     "execution_count": 6,
     "metadata": {},
     "output_type": "execute_result"
    }
   ],
   "source": [
    "from dataset import *\n",
    "from fine_tune.constants import *\n",
    "\n",
    "poi_dataset = get_conll_dataset(clean_data(raw_df), labels=LABELS)\n",
    "poi_dataset "
   ]
  },
  {
   "cell_type": "code",
   "execution_count": 7,
   "metadata": {},
   "outputs": [
    {
     "data": {
      "text/plain": [
       "Dataset({\n",
       "    features: ['tokens', 'ner_tags'],\n",
       "    num_rows: 10\n",
       "})"
      ]
     },
     "execution_count": 7,
     "metadata": {},
     "output_type": "execute_result"
    }
   ],
   "source": [
    "sample_dataset = poi_dataset.select(range(10))\n",
    "sample_dataset"
   ]
  },
  {
   "cell_type": "code",
   "execution_count": 8,
   "metadata": {},
   "outputs": [
    {
     "name": "stderr",
     "output_type": "stream",
     "text": [
      "Map:   0%|          | 0/2694 [00:00<?, ? examples/s]"
     ]
    },
    {
     "name": "stderr",
     "output_type": "stream",
     "text": [
      "Map: 100%|██████████| 2694/2694 [00:00<00:00, 14956.58 examples/s]\n",
      "Map: 100%|██████████| 2694/2694 [00:00<00:00, 4201.65 examples/s]\n"
     ]
    },
    {
     "data": {
      "text/plain": [
       "Dataset({\n",
       "    features: ['tokens', 'ner_tags'],\n",
       "    num_rows: 10739\n",
       "})"
      ]
     },
     "execution_count": 8,
     "metadata": {},
     "output_type": "execute_result"
    }
   ],
   "source": [
    "from adept_augmentations import EntitySwapAugmenter\n",
    "\n",
    "augmenter = EntitySwapAugmenter(poi_dataset)\n",
    "augmented_dataset = augmenter.augment(N=4)\n",
    "augmented_dataset"
   ]
  },
  {
   "cell_type": "code",
   "execution_count": 11,
   "metadata": {},
   "outputs": [
    {
     "name": "stderr",
     "output_type": "stream",
     "text": [
      "/mnt/data/src/ner/.venvaug/lib/python3.10/site-packages/huggingface_hub/file_download.py:1142: FutureWarning: `resume_download` is deprecated and will be removed in version 1.0.0. Downloads always resume when possible. If you want to force a new download, use `force_download=True`.\n",
      "  warnings.warn(\n",
      "Map: 100%|██████████| 10739/10739 [00:01<00:00, 8224.63 examples/s]\n"
     ]
    },
    {
     "data": {
      "text/plain": [
       "Dataset({\n",
       "    features: ['input_ids', 'token_type_ids', 'attention_mask', 'labels'],\n",
       "    num_rows: 10739\n",
       "})"
      ]
     },
     "execution_count": 11,
     "metadata": {},
     "output_type": "execute_result"
    }
   ],
   "source": [
    "tokenizer = AutoTokenizer.from_pretrained(BASE_MODEL)\n",
    "train_dataset = get_train_dataset(augmented_dataset, tokenizer)\n",
    "train_dataset"
   ]
  },
  {
   "cell_type": "code",
   "execution_count": 13,
   "metadata": {},
   "outputs": [],
   "source": [
    "import json\n",
    "\n",
    "with open(\"train_sample.json\", \"w\") as f:\n",
    "    json.dump(train_dataset[1], f)"
   ]
  },
  {
   "cell_type": "code",
   "execution_count": null,
   "metadata": {},
   "outputs": [],
   "source": []
  }
 ],
 "metadata": {
  "kernelspec": {
   "display_name": ".venvaug",
   "language": "python",
   "name": "python3"
  },
  "language_info": {
   "codemirror_mode": {
    "name": "ipython",
    "version": 3
   },
   "file_extension": ".py",
   "mimetype": "text/x-python",
   "name": "python",
   "nbconvert_exporter": "python",
   "pygments_lexer": "ipython3",
   "version": "3.10.12"
  }
 },
 "nbformat": 4,
 "nbformat_minor": 2
}
