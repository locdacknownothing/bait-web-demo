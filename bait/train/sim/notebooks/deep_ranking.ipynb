{
 "cells": [
  {
   "cell_type": "code",
   "execution_count": 38,
   "metadata": {},
   "outputs": [],
   "source": [
    "import torch\n",
    "import torch.nn as nn\n",
    "import torch.nn.functional as F\n",
    "from torchvision import models"
   ]
  },
  {
   "cell_type": "code",
   "execution_count": 39,
   "metadata": {},
   "outputs": [],
   "source": [
    "def count_trainable_params(model: nn.Module) -> int:\n",
    "    \"\"\"\n",
    "    Count the number of trainable parameters in a PyTorch model.\n",
    "\n",
    "    Args:\n",
    "        model (nn.Module): The PyTorch model.\n",
    "\n",
    "    Returns:\n",
    "        int: The number of trainable parameters.\n",
    "    \"\"\"\n",
    "    return sum(p.numel() for p in model.parameters() if p.requires_grad)"
   ]
  },
  {
   "cell_type": "code",
   "execution_count": 40,
   "metadata": {},
   "outputs": [
    {
     "data": {
      "text/plain": [
       "10696232"
      ]
     },
     "execution_count": 40,
     "metadata": {},
     "output_type": "execute_result"
    }
   ],
   "source": [
    "backbone = models.efficientnet_b3(\n",
    "    weights=\"EfficientNet_B3_Weights.IMAGENET1K_V1\"\n",
    ")\n",
    "\n",
    "count_trainable_params(backbone.features)"
   ]
  },
  {
   "cell_type": "code",
   "execution_count": 41,
   "metadata": {},
   "outputs": [],
   "source": [
    "class TripletNet(nn.Module):\n",
    "    def __init__(self, embedding_net):\n",
    "        super(TripletNet, self).__init__()\n",
    "        self.embedding_net = embedding_net\n",
    "\n",
    "    def forward(self, x1, x2, x3):\n",
    "        output1 = self.embedding_net(x1)\n",
    "        output2 = self.embedding_net(x2)\n",
    "        output3 = self.embedding_net(x3)\n",
    "        return output1, output2, output3\n",
    "\n",
    "    def get_embedding(self, x):\n",
    "        return self.embedding_net(x)"
   ]
  },
  {
   "cell_type": "code",
   "execution_count": 67,
   "metadata": {},
   "outputs": [],
   "source": [
    "class ConvNetModel(nn.Module):\n",
    "    def __init__(self, backbone):\n",
    "        super(ConvNetModel, self).__init__()\n",
    "        self.backbone = backbone.features\n",
    "        self.global_avg_pool = nn.AdaptiveAvgPool2d((1, 1))\n",
    "        self.fc1 = nn.LazyLinear(2048)\n",
    "        self.dropout1 = nn.Dropout(0.6)\n",
    "        # self.fc2 = nn.Linear(2048, 2048)\n",
    "        # self.dropout2 = nn.Dropout(0.6)\n",
    "\n",
    "    def forward(self, x):\n",
    "        x = self.backbone(x)\n",
    "        x = self.global_avg_pool(x)\n",
    "        x = torch.flatten(x, 1)\n",
    "        x = F.relu(self.fc1(x))\n",
    "        x = self.dropout1(x)\n",
    "        # x = F.relu(self.fc2(x))\n",
    "        # x = self.dropout2(x)\n",
    "        x = F.normalize(x, p=2, dim=1)\n",
    "        return x"
   ]
  },
  {
   "cell_type": "code",
   "execution_count": 68,
   "metadata": {},
   "outputs": [
    {
     "data": {
      "text/plain": [
       "torch.Size([1, 2048])"
      ]
     },
     "execution_count": 68,
     "metadata": {},
     "output_type": "execute_result"
    }
   ],
   "source": [
    "conv_net_model = ConvNetModel(backbone)\n",
    "\n",
    "dummy_sample = torch.randn(1, 3, 224, 224)\n",
    "output = conv_net_model(dummy_sample)\n",
    "output.shape"
   ]
  },
  {
   "cell_type": "code",
   "execution_count": 69,
   "metadata": {},
   "outputs": [],
   "source": [
    "class DeepRankModel(nn.Module):\n",
    "    def __init__(self, backbone: nn.Module):\n",
    "        super(DeepRankModel, self).__init__()\n",
    "        self.convnet_model = ConvNetModel(backbone)\n",
    "\n",
    "        self.first_conv = nn.Conv2d(3, 96, kernel_size=8, stride=16, padding=4)\n",
    "        self.first_maxpool = nn.MaxPool2d(kernel_size=3, stride=4, padding=1)\n",
    "        \n",
    "        self.second_conv = nn.Conv2d(3, 96, kernel_size=8, stride=32, padding=4)\n",
    "        self.second_maxpool = nn.MaxPool2d(kernel_size=7, stride=2, padding=3)\n",
    "\n",
    "        self.fc = nn.LazyLinear(2048)\n",
    "    \n",
    "    def forward(self, first_input, second_input, backbone_input):\n",
    "        first_conv = self.first_conv(first_input)\n",
    "        first_max = self.first_maxpool(first_conv)\n",
    "        first_max = torch.flatten(first_max, 1)\n",
    "        first_max = F.normalize(first_max, p=2, dim=1)\n",
    "\n",
    "        second_conv = self.second_conv(second_input)\n",
    "        second_max = self.second_maxpool(second_conv)\n",
    "        second_max = torch.flatten(second_max, 1)\n",
    "        second_max = F.normalize(second_max, p=2, dim=1)\n",
    "\n",
    "        backbone_output = self.convnet_model(backbone_input)\n",
    "\n",
    "        merge_one = torch.cat((first_max, second_max), dim=1)\n",
    "        merge_two = torch.cat((merge_one, backbone_output), dim=1)\n",
    "        emb = self.fc(merge_two)\n",
    "        l2_norm_final = F.normalize(emb, p=2, dim=1)\n",
    "\n",
    "        return l2_norm_final"
   ]
  },
  {
   "cell_type": "code",
   "execution_count": 70,
   "metadata": {},
   "outputs": [
    {
     "data": {
      "text/plain": [
       "torch.Size([32, 2048])"
      ]
     },
     "execution_count": 70,
     "metadata": {},
     "output_type": "execute_result"
    }
   ],
   "source": [
    "deep_rank_model = DeepRankModel(backbone)\n",
    "\n",
    "first_input = torch.randn(32,3,224,224)\n",
    "second_input = torch.randn(32,3,224,224)\n",
    "backbone_input = torch.randn(32,3,224,224)\n",
    "\n",
    "output = deep_rank_model(first_input, second_input, backbone_input)\n",
    "output.shape"
   ]
  },
  {
   "cell_type": "code",
   "execution_count": 72,
   "metadata": {},
   "outputs": [
    {
     "data": {
      "text/plain": [
       "24368872"
      ]
     },
     "execution_count": 72,
     "metadata": {},
     "output_type": "execute_result"
    }
   ],
   "source": [
    "count_trainable_params(deep_rank_model)"
   ]
  },
  {
   "cell_type": "code",
   "execution_count": null,
   "metadata": {},
   "outputs": [],
   "source": []
  }
 ],
 "metadata": {
  "kernelspec": {
   "display_name": ".venv",
   "language": "python",
   "name": "python3"
  },
  "language_info": {
   "codemirror_mode": {
    "name": "ipython",
    "version": 3
   },
   "file_extension": ".py",
   "mimetype": "text/x-python",
   "name": "python",
   "nbconvert_exporter": "python",
   "pygments_lexer": "ipython3",
   "version": "3.10.12"
  }
 },
 "nbformat": 4,
 "nbformat_minor": 2
}
