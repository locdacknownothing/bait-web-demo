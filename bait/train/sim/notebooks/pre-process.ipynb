{
 "cells": [
  {
   "cell_type": "code",
   "execution_count": 1,
   "metadata": {},
   "outputs": [],
   "source": [
    "from pathlib import Path\n",
    "import os\n",
    "import shutil\n",
    "import random\n",
    "\n",
    "import numpy as np\n",
    "from PIL import Image\n",
    "import torch\n",
    "import torch.nn as nn\n",
    "from torch.utils.data import Dataset, DataLoader\n",
    "from torchvision import datasets, models\n",
    "from torchvision.transforms import v2 as transforms\n",
    "from torchvision.transforms.v2 import functional as F\n",
    "from tqdm import tqdm\n",
    "from torchvision import transforms"
   ]
  },
  {
   "cell_type": "markdown",
   "metadata": {},
   "source": [
    "## Filter POI image folders"
   ]
  },
  {
   "cell_type": "code",
   "execution_count": 2,
   "metadata": {},
   "outputs": [],
   "source": [
    "IMG_FORMATS = {\"bmp\", \"dng\", \"jpeg\", \"jpg\", \"mpo\", \"png\", \"tif\", \"tiff\", \"webp\", \"pfm\"}\n",
    "\n",
    "\n",
    "def dirwalk(folder: str):\n",
    "    if folder.split(\".\")[-1].lower() in IMG_FORMATS:\n",
    "        return [folder]\n",
    "    else:\n",
    "        path = Path(folder)\n",
    "        files = sorted(\n",
    "            x for x in path.rglob(\"*.*\") if x.suffix[1:].lower() in IMG_FORMATS\n",
    "        )\n",
    "        return files"
   ]
  },
  {
   "cell_type": "code",
   "execution_count": 5,
   "metadata": {},
   "outputs": [
    {
     "name": "stdout",
     "output_type": "stream",
     "text": [
      "313880\n"
     ]
    }
   ],
   "source": [
    "images = dirwalk(\"/mnt/data/data/Data_Sim_Org\")\n",
    "print(len(images))"
   ]
  },
  {
   "cell_type": "code",
   "execution_count": 15,
   "metadata": {},
   "outputs": [
    {
     "name": "stdout",
     "output_type": "stream",
     "text": [
      "100104\n"
     ]
    }
   ],
   "source": [
    "images2 = dirwalk(\"/mnt/data/data/Data_Sim\")\n",
    "print(len(images2))"
   ]
  },
  {
   "cell_type": "code",
   "execution_count": 5,
   "metadata": {},
   "outputs": [],
   "source": [
    "def get_folders(images: list):\n",
    "    folders = [x.parent for x in images]\n",
    "    return list(set(folders))"
   ]
  },
  {
   "cell_type": "code",
   "execution_count": 8,
   "metadata": {},
   "outputs": [
    {
     "data": {
      "text/plain": [
       "29969"
      ]
     },
     "execution_count": 8,
     "metadata": {},
     "output_type": "execute_result"
    }
   ],
   "source": [
    "folders = get_folders(images)\n",
    "len(folders)"
   ]
  },
  {
   "cell_type": "code",
   "execution_count": 6,
   "metadata": {},
   "outputs": [
    {
     "data": {
      "text/plain": [
       "29734"
      ]
     },
     "execution_count": 6,
     "metadata": {},
     "output_type": "execute_result"
    }
   ],
   "source": [
    "folders2 = get_folders(images2)\n",
    "len(folders2)"
   ]
  },
  {
   "cell_type": "code",
   "execution_count": 7,
   "metadata": {},
   "outputs": [],
   "source": [
    "def get_not_poi(images: list) -> list:\n",
    "    return [x for x in images if \"POI\" not in x.parent.name]"
   ]
  },
  {
   "cell_type": "code",
   "execution_count": 8,
   "metadata": {},
   "outputs": [
    {
     "data": {
      "text/plain": [
       "0"
      ]
     },
     "execution_count": 8,
     "metadata": {},
     "output_type": "execute_result"
    }
   ],
   "source": [
    "not_poi_images2 = get_not_poi(images2)\n",
    "len(not_poi_images2)"
   ]
  },
  {
   "cell_type": "code",
   "execution_count": 42,
   "metadata": {},
   "outputs": [],
   "source": [
    "def get_pa(images: list) -> list:\n",
    "    return [x for x in images if \"PA\" in x.parent.name]"
   ]
  },
  {
   "cell_type": "code",
   "execution_count": 43,
   "metadata": {},
   "outputs": [
    {
     "data": {
      "text/plain": [
       "0"
      ]
     },
     "execution_count": 43,
     "metadata": {},
     "output_type": "execute_result"
    }
   ],
   "source": [
    "pa_images = get_pa(images)\n",
    "len(pa_images)"
   ]
  },
  {
   "cell_type": "code",
   "execution_count": 44,
   "metadata": {},
   "outputs": [],
   "source": [
    "def get_sn(images: list) -> list:\n",
    "    return [x for x in images if \"SN\" in x.parent.name]"
   ]
  },
  {
   "cell_type": "code",
   "execution_count": 45,
   "metadata": {},
   "outputs": [
    {
     "data": {
      "text/plain": [
       "0"
      ]
     },
     "execution_count": 45,
     "metadata": {},
     "output_type": "execute_result"
    }
   ],
   "source": [
    "sn_images = get_sn(images)\n",
    "len(sn_images)"
   ]
  },
  {
   "cell_type": "code",
   "execution_count": 3,
   "metadata": {},
   "outputs": [],
   "source": [
    "def get_aug(images: list) -> list:\n",
    "    return [x for x in images if str(x.name).startswith(\"auga\")]"
   ]
  },
  {
   "cell_type": "code",
   "execution_count": 9,
   "metadata": {},
   "outputs": [
    {
     "data": {
      "text/plain": [
       "200207"
      ]
     },
     "execution_count": 9,
     "metadata": {},
     "output_type": "execute_result"
    }
   ],
   "source": [
    "aug_images2 = get_aug(images2)\n",
    "len(aug_images2)"
   ]
  },
  {
   "cell_type": "code",
   "execution_count": null,
   "metadata": {},
   "outputs": [
    {
     "data": {
      "text/plain": [
       "40587"
      ]
     },
     "execution_count": 48,
     "metadata": {},
     "output_type": "execute_result"
    }
   ],
   "source": [
    "# ignore_images = set(pa_images).union(set(sn_images)).union(set(aug_images))\n",
    "# len(ignore_images)"
   ]
  },
  {
   "cell_type": "code",
   "execution_count": 10,
   "metadata": {},
   "outputs": [
    {
     "data": {
      "text/plain": [
       "200207"
      ]
     },
     "execution_count": 10,
     "metadata": {},
     "output_type": "execute_result"
    }
   ],
   "source": [
    "# ignore_images2 = [x for x in images2 if x in not_poi_images2 or x in aug_images2]\n",
    "ignore_images2 = aug_images2\n",
    "len(ignore_images2)"
   ]
  },
  {
   "cell_type": "code",
   "execution_count": 24,
   "metadata": {},
   "outputs": [],
   "source": [
    "def get_ignore_folders(folders: list, ignore_images: list):\n",
    "    def folder_len(folder):\n",
    "        return len(list(folder.glob(\"*.*\")))\n",
    "    \n",
    "    folder_dict = {folder: folder_len(folder) for folder in folders}\n",
    "    for image in ignore_images:\n",
    "        folder = image.parent\n",
    "        folder_dict[folder] -= 1\n",
    "    \n",
    "    ignore_folders = [x for x, n in folder_dict.items() if n <= 0]\n",
    "    return ignore_folders"
   ]
  },
  {
   "cell_type": "code",
   "execution_count": 12,
   "metadata": {},
   "outputs": [
    {
     "data": {
      "text/plain": [
       "0"
      ]
     },
     "execution_count": 12,
     "metadata": {},
     "output_type": "execute_result"
    }
   ],
   "source": [
    "ignore_folders2 = get_ignore_folders(folders2, ignore_images2)\n",
    "len(ignore_folders2)"
   ]
  },
  {
   "cell_type": "code",
   "execution_count": 13,
   "metadata": {},
   "outputs": [],
   "source": [
    "def remove_ignore(ignore_images: list, ignore_folders: list):\n",
    "    for image in ignore_images:\n",
    "        image.unlink()\n",
    "    \n",
    "    for folder in ignore_folders:\n",
    "        folder.rmdir()"
   ]
  },
  {
   "cell_type": "code",
   "execution_count": 14,
   "metadata": {},
   "outputs": [],
   "source": [
    "remove_ignore(ignore_images2, ignore_folders2)"
   ]
  },
  {
   "cell_type": "markdown",
   "metadata": {},
   "source": [
    "## (Optional) Create Masked Crop POI"
   ]
  },
  {
   "cell_type": "markdown",
   "metadata": {},
   "source": [
    "Running in POI_Seg project ..."
   ]
  },
  {
   "cell_type": "markdown",
   "metadata": {},
   "source": [
    "## Split train and test sets"
   ]
  },
  {
   "cell_type": "code",
   "execution_count": 16,
   "metadata": {},
   "outputs": [],
   "source": [
    "def horizontal_split(root_dir, output_dir, train_ratio=0.8, val_ratio=0.2):\n",
    "    assert train_ratio + val_ratio == 1.0, \"Ratios must sum to 1.0\"\n",
    "\n",
    "    train_dir = os.path.join(output_dir, 'train')\n",
    "    val_dir = os.path.join(output_dir, 'val')\n",
    "    os.makedirs(train_dir, exist_ok=True)\n",
    "    os.makedirs(val_dir, exist_ok=True)\n",
    "\n",
    "    class_folders = [f.name for f in os.scandir(root_dir) if f.is_dir()]\n",
    "    random.shuffle(class_folders)\n",
    "\n",
    "    split_idx = int(len(class_folders) * train_ratio)\n",
    "    \n",
    "    # Split folders into train and validation sets\n",
    "    train_folders = class_folders[:split_idx]\n",
    "    val_folders = class_folders[split_idx:]\n",
    "\n",
    "    for folder in train_folders:\n",
    "        src = os.path.join(root_dir, folder)\n",
    "        dest = os.path.join(train_dir, folder)\n",
    "        shutil.copytree(src, dest)\n",
    "        \n",
    "    for folder in val_folders:\n",
    "        src = os.path.join(root_dir, folder)\n",
    "        dest = os.path.join(val_dir, folder)\n",
    "        shutil.copytree(src, dest)"
   ]
  },
  {
   "cell_type": "code",
   "execution_count": 17,
   "metadata": {},
   "outputs": [],
   "source": [
    "src_path = \"/mnt/data/data/Data_Sim\"\n",
    "dst_path = \"../data_sim_processed\"\n",
    "horizontal_split(src_path, dst_path)"
   ]
  },
  {
   "cell_type": "markdown",
   "metadata": {},
   "source": [
    "## Data augmentation"
   ]
  },
  {
   "cell_type": "code",
   "execution_count": 18,
   "metadata": {},
   "outputs": [],
   "source": [
    "def augment_and_save_image(image, transform, num_augmentations=2):\n",
    "    img = Image.open(str(image))\n",
    "    image_name = image.name\n",
    "    for i in range(num_augmentations):\n",
    "        try:\n",
    "            augmented_image = transform(img)\n",
    "            augmented_name = f\"auga_{i}__{image_name}\"\n",
    "            augmented_path = image.parent / Path(augmented_name)\n",
    "            augmented_image.save(str(augmented_path))\n",
    "        except:\n",
    "            continue\n",
    "\n",
    "def aug(images, transform, num_augmentations=2):\n",
    "    for image in tqdm(images):\n",
    "        augment_and_save_image(image, transform, num_augmentations)"
   ]
  },
  {
   "cell_type": "code",
   "execution_count": 19,
   "metadata": {},
   "outputs": [],
   "source": [
    "transform = transforms.RandomChoice(\n",
    "    [\n",
    "        transforms.ColorJitter(brightness=0.5, contrast=0.5),\n",
    "        transforms.RandomRotation(30),\n",
    "        transforms.GaussianBlur(kernel_size=3),\n",
    "    ],\n",
    ")"
   ]
  },
  {
   "cell_type": "code",
   "execution_count": 21,
   "metadata": {},
   "outputs": [],
   "source": [
    "train_images2_folder = \"/mnt/data/src/bait/train/sim/data_sim_processed/train\""
   ]
  },
  {
   "cell_type": "code",
   "execution_count": 27,
   "metadata": {},
   "outputs": [
    {
     "data": {
      "text/plain": [
       "1"
      ]
     },
     "execution_count": 27,
     "metadata": {},
     "output_type": "execute_result"
    }
   ],
   "source": [
    "train_images2_folders = list(Path(train_images2_folder).iterdir())\n",
    "ignore_train_folders2 = get_ignore_folders(train_images2_folders, [])\n",
    "len(ignore_train_folders2)"
   ]
  },
  {
   "cell_type": "code",
   "execution_count": 29,
   "metadata": {},
   "outputs": [],
   "source": [
    "remove_ignore([], ignore_train_folders2)"
   ]
  },
  {
   "cell_type": "code",
   "execution_count": null,
   "metadata": {},
   "outputs": [
    {
     "name": "stderr",
     "output_type": "stream",
     "text": [
      "100%|██████████| 80719/80719 [16:15<00:00, 82.77it/s]  \n"
     ]
    }
   ],
   "source": [
    "train_images2 = dirwalk(train_images2_folder)\n",
    "aug(train_images2, transform)"
   ]
  },
  {
   "cell_type": "code",
   "execution_count": 22,
   "metadata": {},
   "outputs": [
    {
     "name": "stdout",
     "output_type": "stream",
     "text": [
      "24039 242156\n"
     ]
    }
   ],
   "source": [
    "images2 = dirwalk(train_images2_folder)\n",
    "folders2 = get_folders(images2)\n",
    "\n",
    "print(len(folders2), len(images2))"
   ]
  },
  {
   "cell_type": "code",
   "execution_count": null,
   "metadata": {},
   "outputs": [
    {
     "name": "stdout",
     "output_type": "stream",
     "text": [
      "5695 19385\n"
     ]
    }
   ],
   "source": [
    "val_images2_folder = \"/mnt/data/src/bait/train/sim/data_sim_processed/val\"\n",
    "val_images2 = dirwalk(val_images2_folder)\n",
    "val_folders2 = get_folders(val_images2)\n",
    "\n",
    "print(len(val_folders2), len(val_images2))  "
   ]
  }
 ],
 "metadata": {
  "kernelspec": {
   "display_name": ".venv",
   "language": "python",
   "name": "python3"
  },
  "language_info": {
   "codemirror_mode": {
    "name": "ipython",
    "version": 3
   },
   "file_extension": ".py",
   "mimetype": "text/x-python",
   "name": "python",
   "nbconvert_exporter": "python",
   "pygments_lexer": "ipython3",
   "version": "3.10.12"
  }
 },
 "nbformat": 4,
 "nbformat_minor": 2
}
